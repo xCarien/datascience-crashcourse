{
 "cells": [
  {
   "cell_type": "markdown",
   "id": "a0dc32c2",
   "metadata": {},
   "source": [
    "# Python and Data Science\n",
    "\n",
    "Python is open source, interpreted, high level language and provides great approach for object-oriented programming. It is one of the best language used by data scientist for various data science projects/application. Python provide great functionality to deal with mathematics, statistics and scientific function. It provides great libraries to deals with data science application.\n",
    "\n",
    "One of the main reasons why Python is widely used in the scientific and research communities is because of its ease of use and simple syntax which makes it easy to adapt for people who do not have an engineering background. It is also more suited for quick prototyping.\n",
    "\n",
    "![](https://www.brsoftech.com/blog/wp-content/uploads/2019/11/most-in-demand-programming-languages-2020.png)"
   ]
  },
  {
   "cell_type": "markdown",
   "id": "04f823dd",
   "metadata": {},
   "source": [
    "# Is Python a New Language?\n",
    "\n",
    "Python was first released in 1991. It was created by Guido van Rossum as a hobby project. \n",
    "\n",
    "It was named after a comedy TV series.\n",
    "\n",
    "![Monty Python](https://upload.wikimedia.org/wikipedia/en/c/cd/Monty_Python%27s_Flying_Circus_Title_Card.png)"
   ]
  },
  {
   "cell_type": "markdown",
   "id": "0193fe8b",
   "metadata": {},
   "source": [
    "# Computing for Everybody\n",
    "As python was becoming popular, Van Rossum submitted a funding proposal to DARPA called \"Computer Programming for Everybody\", in which he further defined his goals for Python:\n",
    "- An easy and intuitive language just as powerful as major competitors\n",
    "- Open source, so anyone can contribute to its development\n",
    "- Code that is as understandable as plain English\n",
    "- Suitability for everyday tasks, allowing for short development times\n",
    "\n",
    "> In 2021, Python was the second most popular language on GitHub, a social coding website, behind JavaScript and was the most popular language in the last quarter of the year.\n",
    "\n",
    "According to a programming language popularity survey it is consistently among the top 10 most mentioned languages in job postings. Furthermore, Python has been among the 10 most popular programming languages every year since 2004 according to the TIOBE Programming Community Index.\n",
    "\n",
    "# The Zen of Python\n",
    "\n",
    "The Zen of Python is a collection of 19 \"guiding principles\" for writing computer programs that influence the design of the Python programming language. Software engineer Tim Peters wrote this set of principles and posted it on the Python mailing list in 1999. Peters's list left open a 20th principle \"for Guido to fill in\", referring to Guido van Rossum, the original author of the Python language. The vacancy for a 20th principle has not been filled.\n",
    "\n",
    "- Beautiful is better than ugly.\n",
    "- Explicit is better than implicit.\n",
    "- Simple is better than complex.\n",
    "- Complex is better than complicated.\n",
    "- Flat is better than nested.\n",
    "- Sparse is better than dense.\n",
    "- Readability counts.\n",
    "- Special cases aren't special enough to break the rules.\n",
    "- Although practicality beats purity.\n",
    "- Errors should never pass silently.\n",
    "- Unless explicitly silenced.\n",
    "- In the face of ambiguity, refuse the temptation to guess.\n",
    "- There should be one—and preferably only one—obvious way to do it.\n",
    "- Although that way may not be obvious at first unless you're Dutch.\n",
    "- Now is better than never.\n",
    "- Although never is often better than right now.\n",
    "- If the implementation is hard to explain, it's a bad idea.\n",
    "- If the implementation is easy to explain, it may be a good idea.\n",
    "- Namespaces are one honking great idea—let's do more of those!"
   ]
  },
  {
   "cell_type": "markdown",
   "id": "4a73537d",
   "metadata": {},
   "source": [
    "# Try Python Now\n",
    "\n",
    "Select the following code block. \n",
    "Click Cell Menu (on the top) > Run Cells.\n",
    "\n",
    "You can also press Ctrl+Enter. "
   ]
  },
  {
   "cell_type": "code",
   "execution_count": null,
   "id": "7e1dd255",
   "metadata": {},
   "outputs": [],
   "source": [
    "print (\"This is Python!\")"
   ]
  },
  {
   "cell_type": "markdown",
   "id": "f44212c2",
   "metadata": {},
   "source": [
    "But this isn't fun right? The following block creates two variables and put numbers in them, and then compares which number is larger. Feel free to play around and change the numbers and see how it affects the results."
   ]
  },
  {
   "cell_type": "code",
   "execution_count": null,
   "id": "a215aebb",
   "metadata": {},
   "outputs": [],
   "source": [
    "a = 10\n",
    "b = 15\n",
    "\n",
    "if b > a:\n",
    "    print(\"B is greater\")\n",
    "elif a > b:\n",
    "    print (\"A is greater\")\n",
    "else:\n",
    "    print (\"Both are same\")"
   ]
  },
  {
   "cell_type": "markdown",
   "id": "c3774665",
   "metadata": {},
   "source": [
    "The following block creates a list of three fruit names (saved as String). Then we loop over all the fruit names and print a sentence."
   ]
  },
  {
   "cell_type": "code",
   "execution_count": null,
   "id": "a99f548b",
   "metadata": {},
   "outputs": [],
   "source": [
    "fruits = [\"Apple\", \"Banana\", \"Mango\"]\n",
    "\n",
    "for fruit in fruits:\n",
    "    print (\"I eat \"+fruit) "
   ]
  },
  {
   "cell_type": "markdown",
   "id": "4569c5d1",
   "metadata": {},
   "source": [
    "# What is Anaconda?\n",
    "\n",
    "Anaconda is a free and open-source distribution of the Python and R programming languages for scientific computing (data science, machine learning applications, large-scale data processing, predictive analytics, etc.), that aims to simplify package management and deployment. \n",
    "\n",
    "There are several alternatives, however Anaconda is the most popular due to simplicity of managing the python components.\n",
    "\n",
    "Jupyter Notebook (formerly IPython Notebooks) is a web-based interactive computational environment for creating Jupyter notebook documents. The \"notebook\" term can colloquially make reference to many different entities, mainly the Jupyter web application, Jupyter Python web server, or Jupyter document format.\n",
    "\n",
    "# Markdown\n",
    "\n",
    "Hello this is a text. This is not python code. This will not run.\n",
    "\n",
    "But this will be displayed properly.\n",
    "\n",
    "# This is a heading\n",
    "\n",
    "## This is a smaller heading\n",
    "\n",
    "### This is an even smaller heading\n",
    "\n",
    "If you see hash (#) symbol in the beginning of each heading, you are currently in the edit mode. If you don't, double click this text and edit something. Click Run Cell (or Ctrl+Enter) again to update it. Remember you'll need to save the file to preserve the changes. psst... sometimes anaconda may save automatically.\n"
   ]
  },
  {
   "cell_type": "markdown",
   "id": "5f56a260",
   "metadata": {},
   "source": [
    "\n",
    "Here're the reasons why you should use markdown cells:\n",
    "1. It makes your notes look better\n",
    "1. It helps other programmers understand what you are doing"
   ]
  },
  {
   "cell_type": "markdown",
   "id": "181f9676",
   "metadata": {},
   "source": [
    "# More Python\n",
    "\n",
    "Create a new block below. Click on Insert Menu > Insert Cell below. You can also use the shortcut key.\n",
    "\n",
    "In that cell, write 10+20 and verify that the output is correct. "
   ]
  },
  {
   "cell_type": "markdown",
   "id": "a2731c56",
   "metadata": {},
   "source": [
    "Did you create a new block above this cell? If you didn't, you can still do it by pressing ESCAPE key to go to the command mode of Jupyter, and press 'A' key to create. You can do all the basic arithmetic or logical operations on number literals or variables. Play around with the following code block."
   ]
  },
  {
   "cell_type": "code",
   "execution_count": null,
   "id": "5bbef62b",
   "metadata": {},
   "outputs": [],
   "source": [
    "20/3"
   ]
  },
  {
   "cell_type": "code",
   "execution_count": null,
   "id": "8499eb95",
   "metadata": {},
   "outputs": [],
   "source": [
    "20%3"
   ]
  },
  {
   "cell_type": "markdown",
   "id": "184090c8",
   "metadata": {},
   "source": [
    "The % operator is called **modulus** operator, which will divide the first number by the second number and return the *reminder* as output.\n",
    "> Some of you might know it already \n",
    "\n",
    "In Python, we can write a print statement like:\n",
    "`print (\"Hello Julia\")`\n",
    "\n",
    "and it should get printed.\n",
    "\n",
    "# Table in Markdown\n",
    "\n",
    "| Sno | Student Name |\n",
    "| --- | ------------ |\n",
    "| 1   | Narender     |\n",
    "\n",
    "```\n",
    "| Sno | Student Name |\n",
    "| --- | ------------ |\n",
    "| 1   | Narender |\n",
    "```\n",
    "\n",
    "You can double click this cell to see the actual raw syntax behind the fancy formatting."
   ]
  },
  {
   "cell_type": "markdown",
   "id": "3143e23e",
   "metadata": {},
   "source": [
    "# Comments in Python\n",
    "\n",
    "Comments are used to explain the code, make notes to help other programmers, or make notes for future scope.\n",
    "They are mostly used to make code readable."
   ]
  },
  {
   "cell_type": "code",
   "execution_count": null,
   "id": "fa09b3cb",
   "metadata": {},
   "outputs": [],
   "source": [
    "# This is a comment\n",
    "print (\"Hello World!\") # This is a string statement\n",
    "print (5+9) # This is a number\n",
    "print ('The end!') # Bye"
   ]
  },
  {
   "cell_type": "markdown",
   "id": "05a4ec8a",
   "metadata": {},
   "source": [
    "# Errors in Python\n",
    "\n",
    "If something went wrong, python gives a detailed description of what went wrong. \n",
    "\n",
    "**NameError** is raised when a local or global name is not found. The associated value is an error message that includes the name that could not be found. In simple words, Python interpreter doesn't understand what a particular word you used means. One of the most common causes for this kind of error are misspelling or not initializing or importing the mentioned object. \n",
    "\n",
    "The following block shows an error that tells you the line that caused the error, and an error message that explains the error. Can you fix it?"
   ]
  },
  {
   "cell_type": "code",
   "execution_count": 1,
   "id": "3ddb1b76",
   "metadata": {},
   "outputs": [
    {
     "name": "stdout",
     "output_type": "stream",
     "text": [
      "Hello Jones\n"
     ]
    }
   ],
   "source": [
    "myname = \"Jones\"\n",
    "print (\"Hello \"+myname)"
   ]
  },
  {
   "cell_type": "markdown",
   "id": "ad3e9408",
   "metadata": {},
   "source": [
    "# Importing Libraries\n",
    "\n",
    "Anaconda is a suite of tools you need to build modern software and data science projects. These tools and features are packed in *packages* that you need to *import* before you can use them in your code. \n",
    "\n",
    "Run the following block. It's a joke feature added in python. It will open another browser tab containing a comic about how powerful Python is. \n",
    "\n"
   ]
  },
  {
   "cell_type": "code",
   "execution_count": null,
   "id": "f70d4c2c",
   "metadata": {},
   "outputs": [],
   "source": [
    "import antigravity"
   ]
  },
  {
   "cell_type": "markdown",
   "id": "7ff9f626",
   "metadata": {},
   "source": [
    "## Testing Required Packages\n",
    "\n",
    "We should see if the packages we need for this course are ready to be used. The following code should run without errors. \n",
    "\n",
    "### ModuleNotFoundError\n",
    "If you see an error that looks like the following, the mentioned module or package is not present in your python environment. \n",
    "\n",
    "```\n",
    "----> 1 import pandas as pd\n",
    "      2 import numpy as np\n",
    "      3 import matplotlib.pyplot as plt\n",
    "      4 \n",
    "      5 np.random.seed(0)\n",
    "\n",
    "ModuleNotFoundError: No module named 'pandas'\n",
    "```\n",
    "\n",
    "If you see an error like this, you can install it by visiting Package Manager in the *Anaconda Navigator*. You can also install it by adding a code block below and typing `%pip install pandas`. If some other package caused this issue, you can replace its name instead. The output should say `Successfully installed pandas`.\n",
    "\n",
    "If everything went right, you should be able to see a chart showing a normal distribution."
   ]
  },
  {
   "cell_type": "code",
   "execution_count": null,
   "id": "30ae34f1",
   "metadata": {},
   "outputs": [],
   "source": [
    "%pip install matplotlib"
   ]
  },
  {
   "cell_type": "code",
   "execution_count": null,
   "id": "24d61e67",
   "metadata": {},
   "outputs": [],
   "source": [
    "import pandas as pd\n",
    "import numpy as np\n",
    "import matplotlib.pyplot as plt\n",
    "\n",
    "np.random.seed(0)\n",
    "\n",
    "values = np.random.randn(100)\n",
    "s = pd.Series(values) \n",
    "s.plot(kind='hist', title='Normally distributed random values') \n",
    "plt.show()   "
   ]
  },
  {
   "cell_type": "markdown",
   "id": "df44230e",
   "metadata": {},
   "source": [
    "Verifying if scikit-learn package is working fine. Run the following block. If you see a ModuleNotFoundError, you can install it using `%pip install scikit-learn`. "
   ]
  },
  {
   "cell_type": "code",
   "execution_count": null,
   "id": "0e2ca3db",
   "metadata": {},
   "outputs": [],
   "source": [
    "import sklearn"
   ]
  },
  {
   "cell_type": "markdown",
   "id": "e67aac3c",
   "metadata": {},
   "source": [
    "# A Fun Mini-Game\n",
    "\n",
    "Run the following block to play a short game in which you have to guess a number. The first block imports the required package and creates an empty list of winners. The second block runs the game. You can play as often as you like. Play around and make changes in the code. This code block also introduces some more basics of Python programming. If something breaks, you can still look at the git and copy the correct code. "
   ]
  },
  {
   "cell_type": "code",
   "execution_count": null,
   "id": "9068ed78",
   "metadata": {},
   "outputs": [],
   "source": [
    "import random\n",
    "\n",
    "score_history = []"
   ]
  },
  {
   "cell_type": "code",
   "execution_count": null,
   "id": "27f3216b",
   "metadata": {},
   "outputs": [],
   "source": [
    "secret_number = random.randint(1,100)\n",
    "count = 0\n",
    "\n",
    "playername = input(\"What's your name?\")\n",
    "gamewon = True\n",
    "print (\"Welcome \"+playername+\". In this game, you will guess a number between 1 to 100. I will give you hints. Let's see how you perform\")\n",
    "\n",
    "while True:\n",
    "    guess = int (input(\"Enter your Guess: \"))\n",
    "    count += 1\n",
    "    if guess == secret_number:\n",
    "        print (\"You win the game\")\n",
    "        break\n",
    "    else:\n",
    "        if guess < secret_number:\n",
    "            print (\"No. Try a higher number\")\n",
    "        if guess > secret_number:\n",
    "            print (\"No. Try a lower number\")\n",
    "    if count>11:\n",
    "        print (\"Sorry. I can't give you more tries. You lost.\")\n",
    "        gamewon = False\n",
    "        break\n",
    "score = 11-count\n",
    "\n",
    "if gamewon:\n",
    "    print (\"Congratulations.. your score is {}\".format(11-count))\n",
    "    score_history.append(playername+\"\\t\"+str(score))\n",
    "print ()\n",
    "print ('\\n')\n",
    "print (\" = = = = = = Hall of Fame = = = = = = \")\n",
    "for row in score_history:\n",
    "    print (row)\n",
    "\n",
    "\n"
   ]
  }
 ],
 "metadata": {
  "kernelspec": {
   "display_name": "Python 3 (ipykernel)",
   "language": "python",
   "name": "python3"
  },
  "language_info": {
   "codemirror_mode": {
    "name": "ipython",
    "version": 3
   },
   "file_extension": ".py",
   "mimetype": "text/x-python",
   "name": "python",
   "nbconvert_exporter": "python",
   "pygments_lexer": "ipython3",
   "version": "3.9.7"
  }
 },
 "nbformat": 4,
 "nbformat_minor": 5
}
